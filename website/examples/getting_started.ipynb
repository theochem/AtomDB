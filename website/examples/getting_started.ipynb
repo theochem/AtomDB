{
 "cells": [
  {
   "cell_type": "markdown",
   "metadata": {
    "slideshow": {
     "slide_type": "-"
    }
   },
   "source": [
    "# Getting Started"
   ]
  },
  {
   "cell_type": "markdown",
   "metadata": {
    "slideshow": {
     "slide_type": "slide"
    }
   },
   "source": [
    "AtomDB is tailored for accessing atomic properties and, in some cases, leveraging them to obtain approximate molecular properties (pro-molecule models).  The library is designed to be lightweight and easy to use with the goal of providing first approximation when the cost of more accurate calculations is prohibitive (e.g. high size of the system like in proteins with thousands of atoms or in cases where there are thousands of different atomic species like in high-throughput screening or molecular dynamics simulations). This notebook provides a quick overview of the main features of AtomDB and how to use it as a Python script or library.\n"
   ]
  },
  {
   "cell_type": "markdown",
   "metadata": {},
   "source": [
    "## Use as a Python script\n",
    "\n",
    "AtomDB supports usage as a Python script for obtaining properties from the command line. While the script is not as feature-rich as the library, it is still useful for quick fetching of atomic properties. The next cell demonstrates how to utilize AtomDB as a Python script to retrieve atom properties.\n",
    "\n",
    "Note that to execute it (in a command line environment), you'll need to remove the ! from the beginning of the lines.\n",
    "\n",
    "**Getting help on the script**: In the following cell, we show how to get help on the script."
   ]
  },
  {
   "cell_type": "code",
   "execution_count": 73,
   "metadata": {},
   "outputs": [
    {
     "name": "stdout",
     "output_type": "stream",
     "text": [
      "usage: atomdb [-h] (-c | -q) [-e EXC] dataset elem charge mult\n",
      "\n",
      "Compile or query an AtomDB entry.\n",
      "\n",
      "options:\n",
      "  -h, --help         show this help message and exit\n",
      "\n",
      "commands:\n",
      "  -c, --compile      compile a species into the database\n",
      "  -q, --query        query a species from the database\n",
      "\n",
      "arguments:\n",
      "  dataset            name of dataset\n",
      "  elem               element symbol\n",
      "  charge             charge\n",
      "  mult               multiplicity\n",
      "  -e EXC, --exc EXC  excitation level\n"
     ]
    }
   ],
   "source": [
    "!python -m atomdb -h"
   ]
  },
  {
   "cell_type": "markdown",
   "metadata": {},
   "source": [
    "**Printing atom properties using the script:**\n",
    "\n",
    "The data is printed as human readable following the JSON format. This can be latter parsed and used \n",
    "in other scripts or programs. The following cell shows how to print the data for the Carbon atom with\n",
    "charge 0 and spin multiplicity 3 (ground state). Due to the large amount of data, from the output stored\n",
    "in the variable c_0_3_json_output only three properties are parsed and printed."
   ]
  },
  {
   "cell_type": "code",
   "execution_count": 74,
   "metadata": {},
   "outputs": [
    {
     "name": "stdout",
     "output_type": "stream",
     "text": [
      "elem: C\n",
      "atnum: 6\n",
      "atmass: 21893.98446012775\n"
     ]
    }
   ],
   "source": [
    "%%bash \n",
    "c_0_3_json_output=$(python -m atomdb -q slater C 0 3)\n",
    "\n",
    "# Define an array of keys\n",
    "keys=(\"elem\" \"atnum\" \"atmass\")\n",
    "\n",
    "# Loop through the keys and print the raw-values from the JSON output\n",
    "for key in \"${keys[@]}\"; do\n",
    "    value=$(echo \"$c_0_3_json_output\" | jq -r \".$key\")\n",
    "    echo \"$key: $value\"\n",
    "done"
   ]
  },
  {
   "cell_type": "markdown",
   "metadata": {},
   "source": [
    "## Use as a Python library\n",
    "\n",
    "The real power of AtomDB is showcased when it is used as a library. The library provides a simple API to access atomic properties and even some pro-molecular properties. This is done through the `Species` object, which is used to access atomic properties. \n",
    "\n",
    "\n",
    "The required inputs are: element symbol, charge and multiplicity. \n",
    "\n",
    "Optionally a dataset name can be specified choosing one of:\n",
    "- `nist`: NIST spectroscopic data complemented with results from [Phys. Chem. Chem. Phys., 2016,18, 25721-25734](https://doi.org/10.1039/C6CP04533B)\n",
    "- `slater`: Atomic orbitals and electronic denisty properties from SCF calculations using Slater basis.\n",
    "- `numeric`: electronic denisty properties from numerical Hartree-fock calculations.\n",
    "- `gaussian`: Atomic orbitals and electronic denisty properties from SCF calculations using gaussian basis. \n",
    "\n",
    "The following cell demonstrates how to create a `Species` object for the `C` atom with charge 0 and spin multiplicity 3. Subsequent cells show how to access some of its atomic properties."
   ]
  },
  {
   "cell_type": "code",
   "execution_count": 75,
   "metadata": {
    "slideshow": {
     "slide_type": "slide"
    }
   },
   "outputs": [],
   "source": [
    "from atomdb import load\n",
    "\n",
    "c_slater = load(elem='C', charge=0, mult=3, dataset='slater')"
   ]
  },
  {
   "cell_type": "markdown",
   "metadata": {},
   "source": [
    "#### Scalar atomic properties:\n",
    "\n",
    "The following cell demonstrates how to extract scalar atomic properties atomic number, atomic mass, atomic symbol.\n",
    "Please note that some properties have more than one reference value, in this case a dictionary is returned with the\n",
    " reference as key and the value as value (see the atomic radius)."
   ]
  },
  {
   "cell_type": "code",
   "execution_count": 76,
   "metadata": {},
   "outputs": [
    {
     "name": "stdout",
     "output_type": "stream",
     "text": [
      "Element loaded C\n",
      "Charge 0\n",
      "Multiplicity 3\n",
      "Number of electrons 6\n",
      "Atomic number 6\n",
      "Atomic mass in a.u. 21893.98446012775\n",
      "Atomic radius in a.u. {'wc': 1.1716301972646734, 'cr': 1.2661165034956954}\n"
     ]
    }
   ],
   "source": [
    "print(f\"Element loaded {c_slater.elem}\")\n",
    "print(f\"Charge {c_slater.charge}\")\n",
    "print(f\"Multiplicity {c_slater.mult}\")\n",
    "print(f\"Number of electrons {c_slater.nelec}\")\n",
    "print(f\"Atomic number {c_slater.atnum}\")\n",
    "print(f\"Atomic mass in a.u. {c_slater.atmass}\")\n",
    "print(f\"Atomic radius in a.u. {c_slater.at_radius}\")"
   ]
  },
  {
   "cell_type": "markdown",
   "metadata": {},
   "source": [
    "#### Vector-type atomic properties:\n",
    "\n",
    "The following cell demonstrates how to extract vector atomic properties such as the orbital energies and the occupation numbers."
   ]
  },
  {
   "cell_type": "code",
   "execution_count": 77,
   "metadata": {},
   "outputs": [
    {
     "name": "stdout",
     "output_type": "stream",
     "text": [
      "Number of spin-orbitals (alpha): 5\n",
      "Number of spin-orbitals (beta): 5\n",
      "Occupations (alpha): [1 1 1 1 0]\n",
      "Occupations (beta): [1 1 0 0 0]\n",
      "Orbital energies (alpha): [-11.3255187  -0.7056273  -0.4333405  -0.4333405  -0.4333405]\n",
      "Orbital energies (beta): [-11.3255187  -0.7056273  -0.4333405  -0.4333405  -0.4333405]\n"
     ]
    }
   ],
   "source": [
    "# Atomic orbitals information\n",
    "print(f\"Number of spin-orbitals (alpha): {c_slater.ao.norba}\")\n",
    "print(f\"Number of spin-orbitals (beta): {c_slater.ao.norbb}\")\n",
    "print(f\"Occupations (alpha): {c_slater.ao.occs_a}\")\n",
    "print(f\"Occupations (beta): {c_slater.ao.occs_b}\")\n",
    "print(f\"Orbital energies (alpha): {c_slater.ao.energy_a}\")\n",
    "print(f\"Orbital energies (beta): {c_slater.ao.energy_b}\")"
   ]
  },
  {
   "cell_type": "markdown",
   "metadata": {},
   "source": [
    "#### Function type atomic properties:\n",
    "\n",
    "The `Species` instances also contain information on atomic properties that are functions the spatial coordinates such as the electron density and the atomic orbitals. For these properties, the only the radial part is returned.\n",
    "\n",
    "The following cell demonstrates how to extract the radial part of the electron density."
   ]
  },
  {
   "cell_type": "code",
   "execution_count": 78,
   "metadata": {},
   "outputs": [
    {
     "name": "stdout",
     "output_type": "stream",
     "text": [
      "Max density: 127.4572 at r = 0.0000 Bohr\n",
      "Max KED: 106.1023 at r = 0.1818 Bohr\n"
     ]
    }
   ],
   "source": [
    "import numpy as np\n",
    "\n",
    "# Define a uniform radial grid and evaluate the density\n",
    "rad_grid = np.linspace(0., 6., num=100)\n",
    "# density and kinetic energy density functions (total)\n",
    "dens_spline = c_slater.dens_func(spin='t',log=True)\n",
    "ked_spline = c_slater.ked_func(spin='t')\n",
    "\n",
    "dens = dens_spline(rad_grid)\n",
    "ked = ked_spline(rad_grid)\n",
    "\n",
    "print(f\"Max density: {np.max(dens):.4f} at r = {rad_grid[np.argmax(dens)]:.4f} Bohr\")\n",
    "print(f\"Max KED: {np.max(ked):.4f} at r = {rad_grid[np.argmax(ked)]:.4f} Bohr\")"
   ]
  },
  {
   "cell_type": "markdown",
   "metadata": {},
   "source": [
    "The following cell provides a graphical representation of the electron density and kinetic energy\n",
    "density of the Carbon atom with charge 0 and spin multiplicity 3."
   ]
  },
  {
   "cell_type": "code",
   "execution_count": 79,
   "metadata": {},
   "outputs": [
    {
     "data": {
      "image/png": "[encoded data removed]",
      "text/plain": [
       "<Figure size 1000x400 with 2 Axes>"
      ]
     },
     "metadata": {},
     "output_type": "display_data"
    }
   ],
   "source": [
    "import matplotlib.pyplot as plt\n",
    "\n",
    "fig = plt.figure(figsize=(10, 4))\n",
    "ax1 = fig.add_subplot(121)\n",
    "ax2 = fig.add_subplot(122)\n",
    "\n",
    "ax1.plot(rad_grid, dens, '-r', linewidth=2)\n",
    "ax1.set(xlabel=\"Radial distance [Bohr]\", ylabel=\"Density [Bohr$^{-3}$]\")\n",
    "ax1.set_yscale('log')\n",
    "ax1.set_ylim(top=1000, bottom=0.00001)\n",
    "ax1.set_xlim(left=0., right=6)\n",
    "ax1.set_title(f'Spherically averaged density')\n",
    "\n",
    "ax2.plot(rad_grid, ked, '-b', linewidth=2)\n",
    "ax2.set(xlabel=\"Radial distance [Bohr]\", ylabel=\"KED E$_{h}$ Bohr$^{-3}$\")\n",
    "plt.show()"
   ]
  },
  {
   "cell_type": "markdown",
   "metadata": {
    "slideshow": {
     "slide_type": "slide"
    }
   },
   "source": [
    "#### Dumping Data\n",
    "\n",
    "In order to integrate AtomDB with other tools, it is possible to dump the data in a JSON format.\n",
    "The data is then returned as a string with all the information of the `Species` object. The\n",
    "following cell demonstrates how to dump the data for the carbon atom used in the previous examples.\n",
    "Due to the large amount of data, only the first 90 characters are printed."
   ]
  },
  {
   "cell_type": "code",
   "execution_count": 80,
   "metadata": {},
   "outputs": [
    {
     "name": "stdout",
     "output_type": "stream",
     "text": [
      "{\"elem\": \"C\", \"atnum\": 6, \"nelec\": 6, \"nspin\": 2, \"nexc\": 0, \"atmass\": 21893.98446012775, \n"
     ]
    }
   ],
   "source": [
    "# Dumping Data to a JSON string\n",
    "c_slater_json= c_slater.to_json()\n",
    "\n",
    "# Print the first 90 characters of the JSON string\n",
    "print(c_slater_json[:90])"
   ]
  }
 ],
 "metadata": {
  "interpreter": {
   "hash": "4846203d052f4918654383d2fa4dc83e5f0e073317ccb4eea0fa3b82d0bd9d45"
  },
  "kernelspec": {
   "display_name": "Python 3 (ipykernel)",
   "language": "python",
   "name": "python3"
  },
  "language_info": {
   "codemirror_mode": {
    "name": "ipython",
    "version": 3
   },
   "file_extension": ".py",
   "mimetype": "text/x-python",
   "name": "python",
   "nbconvert_exporter": "python",
   "pygments_lexer": "ipython3",
   "version": "3.12.2"
  }
 },
 "nbformat": 4,
 "nbformat_minor": 4
}
